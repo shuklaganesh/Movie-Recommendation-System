{
 "cells": [
  {
   "cell_type": "code",
   "execution_count": 68,
   "id": "faf1f24b-60db-4d1f-b729-c25dbd92e1d9",
   "metadata": {},
   "outputs": [],
   "source": [
    "import numpy as np\n",
    "import pandas as pd\n",
    "import matplotlib.pyplot as plt\n",
    "import seaborn as sns\n",
    "import warnings\n",
    "warnings.filterwarnings('ignore')"
   ]
  },
  {
   "cell_type": "markdown",
   "id": "cd98963b-81f6-451c-b03b-ba15165714e5",
   "metadata": {},
   "source": [
    "### Loading Datasets"
   ]
  },
  {
   "cell_type": "code",
   "execution_count": 70,
   "id": "f6b165ed-ff9c-4604-b35e-584dda2d2ff6",
   "metadata": {},
   "outputs": [
    {
     "data": {
      "text/plain": [
       "(   userId  movieId  rating  timestamp\n",
       " 0       1        1     4.0  964982703\n",
       " 1       1        3     4.0  964981247\n",
       " 2       1        6     4.0  964982224\n",
       " 3       1       47     5.0  964983815\n",
       " 4       1       50     5.0  964982931,\n",
       "    movieId                               title  \\\n",
       " 0        1                    Toy Story (1995)   \n",
       " 1        2                      Jumanji (1995)   \n",
       " 2        3             Grumpier Old Men (1995)   \n",
       " 3        4            Waiting to Exhale (1995)   \n",
       " 4        5  Father of the Bride Part II (1995)   \n",
       " \n",
       "                                         genres  \n",
       " 0  Adventure|Animation|Children|Comedy|Fantasy  \n",
       " 1                   Adventure|Children|Fantasy  \n",
       " 2                               Comedy|Romance  \n",
       " 3                         Comedy|Drama|Romance  \n",
       " 4                                       Comedy  )"
      ]
     },
     "execution_count": 70,
     "metadata": {},
     "output_type": "execute_result"
    }
   ],
   "source": [
    "# Correct paths to your files\n",
    "ratings_path = r'D:\\IIIT-H_Temp\\Learning\\IIITH\\Data Analytics\\Assignment 3\\ml-latest-small\\ml-latest-small\\ratings.csv'\n",
    "movies_path = r'D:\\IIIT-H_Temp\\Learning\\IIITH\\Data Analytics\\Assignment 3\\ml-latest-small\\ml-latest-small\\movies.csv'\n",
    "\n",
    "# Load the datasets into pandas DataFrames\n",
    "ratings = pd.read_csv(ratings_path)\n",
    "movies = pd.read_csv(movies_path)\n",
    "\n",
    "# Now display the first few rows of each DataFrame\n",
    "ratings.head(), movies.head()"
   ]
  },
  {
   "cell_type": "markdown",
   "id": "6add7798-43ee-48df-88c2-2f8bdce64e66",
   "metadata": {},
   "source": [
    "### Checking for Missing Values"
   ]
  },
  {
   "cell_type": "code",
   "execution_count": 76,
   "id": "857de5cb-cef1-497a-b8ae-af03f6af55ca",
   "metadata": {},
   "outputs": [
    {
     "name": "stdout",
     "output_type": "stream",
     "text": [
      "Missing values in ratings dataset:\n",
      " userId       0\n",
      "movieId      0\n",
      "rating       0\n",
      "timestamp    0\n",
      "dtype: int64\n",
      "Missing values in movies dataset:\n",
      " movieId    0\n",
      "title      0\n",
      "genres     0\n",
      "dtype: int64\n"
     ]
    }
   ],
   "source": [
    "# Check for missing values in the ratings dataset\n",
    "print(\"Missing values in ratings dataset:\\n\", ratings.isnull().sum())\n",
    "\n",
    "# Check for missing values in the movies dataset\n",
    "print(\"Missing values in movies dataset:\\n\", movies.isnull().sum())"
   ]
  },
  {
   "cell_type": "markdown",
   "id": "a32a7b9d-4abb-4071-8a93-d2dd380e2f0a",
   "metadata": {},
   "source": [
    "### Checking for Duplicate Values"
   ]
  },
  {
   "cell_type": "code",
   "execution_count": 75,
   "id": "950dab38-ab4b-4972-881d-bbebf73116ad",
   "metadata": {},
   "outputs": [
    {
     "name": "stdout",
     "output_type": "stream",
     "text": [
      "Number of duplicate rows in ratings dataset: 0\n",
      "Number of duplicate rows in movies dataset: 0\n"
     ]
    }
   ],
   "source": [
    "# Check for duplicate rows in the ratings dataset\n",
    "duplicate_ratings = ratings.duplicated().sum()\n",
    "print(f\"Number of duplicate rows in ratings dataset: {duplicate_ratings}\")\n",
    "\n",
    "# If duplicates exist, remove them\n",
    "if duplicate_ratings > 0:\n",
    "    ratings = ratings.drop_duplicates()\n",
    "\n",
    "# Check for duplicate rows in the movies dataset\n",
    "duplicate_movies = movies.duplicated().sum()\n",
    "print(f\"Number of duplicate rows in movies dataset: {duplicate_movies}\")\n",
    "\n",
    "# If duplicates exist, remove them\n",
    "if duplicate_movies > 0:\n",
    "    movies = movies.drop_duplicates()"
   ]
  },
  {
   "cell_type": "markdown",
   "id": "0ecc6891-2acd-44ae-898c-d816fb5603b8",
   "metadata": {},
   "source": [
    "### Filtering Users Who Rated More Than 10 Movies"
   ]
  },
  {
   "cell_type": "code",
   "execution_count": 77,
   "id": "7c580edd-7332-432d-8cee-c2e73653dc8d",
   "metadata": {},
   "outputs": [
    {
     "data": {
      "text/html": [
       "<div>\n",
       "<style scoped>\n",
       "    .dataframe tbody tr th:only-of-type {\n",
       "        vertical-align: middle;\n",
       "    }\n",
       "\n",
       "    .dataframe tbody tr th {\n",
       "        vertical-align: top;\n",
       "    }\n",
       "\n",
       "    .dataframe thead th {\n",
       "        text-align: right;\n",
       "    }\n",
       "</style>\n",
       "<table border=\"1\" class=\"dataframe\">\n",
       "  <thead>\n",
       "    <tr style=\"text-align: right;\">\n",
       "      <th></th>\n",
       "      <th>userId</th>\n",
       "      <th>movieId</th>\n",
       "      <th>rating</th>\n",
       "      <th>timestamp</th>\n",
       "    </tr>\n",
       "  </thead>\n",
       "  <tbody>\n",
       "    <tr>\n",
       "      <th>0</th>\n",
       "      <td>1</td>\n",
       "      <td>1</td>\n",
       "      <td>4.0</td>\n",
       "      <td>964982703</td>\n",
       "    </tr>\n",
       "    <tr>\n",
       "      <th>1</th>\n",
       "      <td>1</td>\n",
       "      <td>3</td>\n",
       "      <td>4.0</td>\n",
       "      <td>964981247</td>\n",
       "    </tr>\n",
       "    <tr>\n",
       "      <th>2</th>\n",
       "      <td>1</td>\n",
       "      <td>6</td>\n",
       "      <td>4.0</td>\n",
       "      <td>964982224</td>\n",
       "    </tr>\n",
       "    <tr>\n",
       "      <th>3</th>\n",
       "      <td>1</td>\n",
       "      <td>47</td>\n",
       "      <td>5.0</td>\n",
       "      <td>964983815</td>\n",
       "    </tr>\n",
       "    <tr>\n",
       "      <th>4</th>\n",
       "      <td>1</td>\n",
       "      <td>50</td>\n",
       "      <td>5.0</td>\n",
       "      <td>964982931</td>\n",
       "    </tr>\n",
       "  </tbody>\n",
       "</table>\n",
       "</div>"
      ],
      "text/plain": [
       "   userId  movieId  rating  timestamp\n",
       "0       1        1     4.0  964982703\n",
       "1       1        3     4.0  964981247\n",
       "2       1        6     4.0  964982224\n",
       "3       1       47     5.0  964983815\n",
       "4       1       50     5.0  964982931"
      ]
     },
     "execution_count": 77,
     "metadata": {},
     "output_type": "execute_result"
    }
   ],
   "source": [
    "# Group by userId and count the number of movies rated by each user\n",
    "user_ratings_count = ratings.groupby('userId').size()\n",
    "\n",
    "# Filter users who have rated more than 10 movies\n",
    "valid_users = user_ratings_count[user_ratings_count > 10].index\n",
    "\n",
    "# Filter the ratings data to only include valid users\n",
    "filtered_ratings = ratings[ratings['userId'].isin(valid_users)]\n",
    "\n",
    "# Display the filtered dataset\n",
    "filtered_ratings.head()"
   ]
  },
  {
   "cell_type": "markdown",
   "id": "2da8e2f9-1eb6-45e0-b590-69f600163ca3",
   "metadata": {},
   "source": [
    "### Filtering Movies Rated Above 2"
   ]
  },
  {
   "cell_type": "code",
   "execution_count": 78,
   "id": "5225702e-752a-4cf7-b2e7-75a123435329",
   "metadata": {},
   "outputs": [
    {
     "data": {
      "text/html": [
       "<div>\n",
       "<style scoped>\n",
       "    .dataframe tbody tr th:only-of-type {\n",
       "        vertical-align: middle;\n",
       "    }\n",
       "\n",
       "    .dataframe tbody tr th {\n",
       "        vertical-align: top;\n",
       "    }\n",
       "\n",
       "    .dataframe thead th {\n",
       "        text-align: right;\n",
       "    }\n",
       "</style>\n",
       "<table border=\"1\" class=\"dataframe\">\n",
       "  <thead>\n",
       "    <tr style=\"text-align: right;\">\n",
       "      <th></th>\n",
       "      <th>userId</th>\n",
       "      <th>movieId</th>\n",
       "      <th>rating</th>\n",
       "      <th>timestamp</th>\n",
       "    </tr>\n",
       "  </thead>\n",
       "  <tbody>\n",
       "    <tr>\n",
       "      <th>0</th>\n",
       "      <td>1</td>\n",
       "      <td>1</td>\n",
       "      <td>4.0</td>\n",
       "      <td>964982703</td>\n",
       "    </tr>\n",
       "    <tr>\n",
       "      <th>1</th>\n",
       "      <td>1</td>\n",
       "      <td>3</td>\n",
       "      <td>4.0</td>\n",
       "      <td>964981247</td>\n",
       "    </tr>\n",
       "    <tr>\n",
       "      <th>2</th>\n",
       "      <td>1</td>\n",
       "      <td>6</td>\n",
       "      <td>4.0</td>\n",
       "      <td>964982224</td>\n",
       "    </tr>\n",
       "    <tr>\n",
       "      <th>3</th>\n",
       "      <td>1</td>\n",
       "      <td>47</td>\n",
       "      <td>5.0</td>\n",
       "      <td>964983815</td>\n",
       "    </tr>\n",
       "    <tr>\n",
       "      <th>4</th>\n",
       "      <td>1</td>\n",
       "      <td>50</td>\n",
       "      <td>5.0</td>\n",
       "      <td>964982931</td>\n",
       "    </tr>\n",
       "  </tbody>\n",
       "</table>\n",
       "</div>"
      ],
      "text/plain": [
       "   userId  movieId  rating  timestamp\n",
       "0       1        1     4.0  964982703\n",
       "1       1        3     4.0  964981247\n",
       "2       1        6     4.0  964982224\n",
       "3       1       47     5.0  964983815\n",
       "4       1       50     5.0  964982931"
      ]
     },
     "execution_count": 78,
     "metadata": {},
     "output_type": "execute_result"
    }
   ],
   "source": [
    "# Filter movies with ratings greater than 2\n",
    "filtered_ratings = filtered_ratings[filtered_ratings['rating'] > 2]\n",
    "\n",
    "# Display the filtered ratings\n",
    "filtered_ratings.head()"
   ]
  },
  {
   "cell_type": "markdown",
   "id": "7a23c15e-4cf4-4c2a-9a42-bc17a69517d9",
   "metadata": {},
   "source": [
    "### Creating the Transactional Dataset"
   ]
  },
  {
   "cell_type": "code",
   "execution_count": 79,
   "id": "923b85f8-acae-41a7-bd3e-536f15a6e24b",
   "metadata": {},
   "outputs": [
    {
     "data": {
      "text/html": [
       "<div>\n",
       "<style scoped>\n",
       "    .dataframe tbody tr th:only-of-type {\n",
       "        vertical-align: middle;\n",
       "    }\n",
       "\n",
       "    .dataframe tbody tr th {\n",
       "        vertical-align: top;\n",
       "    }\n",
       "\n",
       "    .dataframe thead th {\n",
       "        text-align: right;\n",
       "    }\n",
       "</style>\n",
       "<table border=\"1\" class=\"dataframe\">\n",
       "  <thead>\n",
       "    <tr style=\"text-align: right;\">\n",
       "      <th></th>\n",
       "      <th>userId</th>\n",
       "      <th>movieId</th>\n",
       "    </tr>\n",
       "  </thead>\n",
       "  <tbody>\n",
       "    <tr>\n",
       "      <th>0</th>\n",
       "      <td>1</td>\n",
       "      <td>[1, 3, 6, 47, 50, 70, 101, 110, 151, 157, 163,...</td>\n",
       "    </tr>\n",
       "    <tr>\n",
       "      <th>1</th>\n",
       "      <td>2</td>\n",
       "      <td>[318, 333, 1704, 3578, 6874, 8798, 46970, 4851...</td>\n",
       "    </tr>\n",
       "    <tr>\n",
       "      <th>2</th>\n",
       "      <td>3</td>\n",
       "      <td>[849, 1275, 1371, 1587, 2288, 2851, 3024, 3703...</td>\n",
       "    </tr>\n",
       "    <tr>\n",
       "      <th>3</th>\n",
       "      <td>4</td>\n",
       "      <td>[21, 45, 52, 58, 106, 125, 162, 171, 176, 215,...</td>\n",
       "    </tr>\n",
       "    <tr>\n",
       "      <th>4</th>\n",
       "      <td>5</td>\n",
       "      <td>[1, 21, 34, 36, 39, 50, 58, 110, 150, 153, 232...</td>\n",
       "    </tr>\n",
       "  </tbody>\n",
       "</table>\n",
       "</div>"
      ],
      "text/plain": [
       "   userId                                            movieId\n",
       "0       1  [1, 3, 6, 47, 50, 70, 101, 110, 151, 157, 163,...\n",
       "1       2  [318, 333, 1704, 3578, 6874, 8798, 46970, 4851...\n",
       "2       3  [849, 1275, 1371, 1587, 2288, 2851, 3024, 3703...\n",
       "3       4  [21, 45, 52, 58, 106, 125, 162, 171, 176, 215,...\n",
       "4       5  [1, 21, 34, 36, 39, 50, 58, 110, 150, 153, 232..."
      ]
     },
     "execution_count": 79,
     "metadata": {},
     "output_type": "execute_result"
    }
   ],
   "source": [
    "# Group by userId and aggregate movieIds into a list\n",
    "transactional_data = filtered_ratings.groupby('userId')['movieId'].apply(list)\n",
    "\n",
    "# Convert the transactional data into a DataFrame\n",
    "transactional_data = pd.DataFrame(transactional_data).reset_index()\n",
    "\n",
    "# Display the transactional data\n",
    "transactional_data.head()"
   ]
  },
  {
   "cell_type": "markdown",
   "id": "d6203470-00c4-4b8f-9bbf-04de06b2c3d0",
   "metadata": {},
   "source": [
    "### Splitting into Training and Test Sets"
   ]
  },
  {
   "cell_type": "code",
   "execution_count": 80,
   "id": "bf31ab84-0d89-4970-a21f-3e84fa7c0884",
   "metadata": {},
   "outputs": [
    {
     "data": {
      "text/plain": [
       "(     userId                                            movieId\n",
       " 23       24  [6, 32, 50, 165, 253, 296, 316, 318, 356, 457,...\n",
       " 582     583  [39, 104, 216, 239, 296, 317, 356, 588, 593, 5...\n",
       " 287     288  [1, 3, 10, 17, 21, 32, 34, 43, 47, 73, 87, 110...\n",
       " 322     323  [1, 2, 17, 19, 22, 29, 32, 34, 36, 48, 50, 60,...\n",
       " 132     133  [32, 47, 50, 110, 150, 223, 296, 300, 318, 356...,\n",
       "      userId                                            movieId\n",
       " 81       82  [1, 2, 6, 10, 47, 104, 110, 145, 153, 163, 165...\n",
       " 218     219  [1, 2, 6, 10, 19, 21, 32, 47, 50, 104, 112, 15...\n",
       " 55       56            [10, 11, 19, 39, 47, 69, 110, 153, 160]\n",
       " 598     599  [1, 2, 6, 7, 10, 11, 16, 17, 18, 19, 21, 24, 2...\n",
       " 264     265  [32, 36, 110, 111, 150, 230, 253, 260, 266, 28...)"
      ]
     },
     "execution_count": 80,
     "metadata": {},
     "output_type": "execute_result"
    }
   ],
   "source": [
    "from sklearn.model_selection import train_test_split\n",
    "\n",
    "# Split the dataset into 80% training and 20% test set\n",
    "train_data, test_data = train_test_split(transactional_data, test_size=0.2, random_state=42)\n",
    "\n",
    "# Create a test set by removing 20% of the movies from each user\n",
    "def create_test_set(movies):\n",
    "    test_size = int(len(movies) * 0.2)  # Remove 20% of the movies\n",
    "    return movies[:test_size]\n",
    "\n",
    "test_data['movieId'] = test_data['movieId'].apply(create_test_set)\n",
    "\n",
    "# Display the training and test data\n",
    "train_data.head(), test_data.head()"
   ]
  },
  {
   "cell_type": "markdown",
   "id": "725f1e9b-9f90-4310-aa1d-f4d608d5815a",
   "metadata": {},
   "source": [
    "### Commiting to Git!"
   ]
  },
  {
   "cell_type": "code",
   "execution_count": 96,
   "id": "bd0ce712-62dd-44b4-a8e6-69a61f2cc453",
   "metadata": {},
   "outputs": [
    {
     "name": "stderr",
     "output_type": "stream",
     "text": [
      "warning: in the working copy of 'Assignment 3_64_Mid-Submission.ipynb', LF will be replaced by CRLF the next time Git touches it\n"
     ]
    },
    {
     "name": "stdout",
     "output_type": "stream",
     "text": [
      "[main 672a1fc] Completed data preprocessing for movie recommendation system\n",
      " 1 file changed, 529 insertions(+), 27 deletions(-)\n",
      "branch 'main' set up to track 'origin/main'.\n"
     ]
    },
    {
     "name": "stderr",
     "output_type": "stream",
     "text": [
      "POST git-receive-pack (4906 bytes)\n",
      "Pushing to https://github.com/shuklaganesh/Movie-Recommendation-System.git\n",
      "To https://github.com/shuklaganesh/Movie-Recommendation-System.git\n",
      "   669a3f0..672a1fc  main -> main\n",
      "updating local tracking ref 'refs/remotes/origin/main'\n"
     ]
    }
   ],
   "source": [
    "# Add the notebook file to the staging area\n",
    "!git add \"Assignment 3_64_Mid-Submission.ipynb\"\n",
    "\n",
    "# Commit the changes with a meaningful message\n",
    "!git commit -m \"Completed data preprocessing for movie recommendation system\" --verbose\n",
    "\n",
    "# Push the changes with verbose output for detailed feedback\n",
    "!git push -u origin main --verbose"
   ]
  }
 ],
 "metadata": {
  "kernelspec": {
   "display_name": "Python 3 (ipykernel)",
   "language": "python",
   "name": "python3"
  },
  "language_info": {
   "codemirror_mode": {
    "name": "ipython",
    "version": 3
   },
   "file_extension": ".py",
   "mimetype": "text/x-python",
   "name": "python",
   "nbconvert_exporter": "python",
   "pygments_lexer": "ipython3",
   "version": "3.12.3"
  }
 },
 "nbformat": 4,
 "nbformat_minor": 5
}
