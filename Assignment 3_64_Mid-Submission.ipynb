{
 "cells": [
  {
   "cell_type": "code",
   "execution_count": null,
   "id": "faf1f24b-60db-4d1f-b729-c25dbd92e1d9",
   "metadata": {},
   "outputs": [],
   "source": [
    "import numpy as np\n",
    "import pandas as pd\n",
    "import matplotlib.pyplot as plt\n",
    "import seaborn as sns\n",
    "import warnings\n",
    "warnings.filterwarnings('ignore')"
   ]
  },
  {
   "cell_type": "markdown",
   "id": "cd98963b-81f6-451c-b03b-ba15165714e5",
   "metadata": {},
   "source": [
    "### Loading Datasets"
   ]
  },
  {
   "cell_type": "code",
   "execution_count": null,
   "id": "f6b165ed-ff9c-4604-b35e-584dda2d2ff6",
   "metadata": {},
   "outputs": [],
   "source": [
    "# Correct paths to your files\n",
    "ratings_path = r'D:\\IIIT-H_Temp\\Learning\\IIITH\\Data Analytics\\Assignment 3\\ml-latest-small\\ml-latest-small\\ratings.csv'\n",
    "movies_path = r'D:\\IIIT-H_Temp\\Learning\\IIITH\\Data Analytics\\Assignment 3\\ml-latest-small\\ml-latest-small\\movies.csv'\n",
    "\n",
    "# Load the datasets into pandas DataFrames\n",
    "ratings = pd.read_csv(ratings_path)\n",
    "movies = pd.read_csv(movies_path)\n",
    "\n",
    "# Now display the first few rows of each DataFrame\n",
    "ratings.head(), movies.head()"
   ]
  },
  {
   "cell_type": "markdown",
   "id": "6add7798-43ee-48df-88c2-2f8bdce64e66",
   "metadata": {},
   "source": [
    "### Checking for Missing Values"
   ]
  },
  {
   "cell_type": "code",
   "execution_count": null,
   "id": "857de5cb-cef1-497a-b8ae-af03f6af55ca",
   "metadata": {},
   "outputs": [],
   "source": [
    "# Check for missing values in the ratings dataset\n",
    "print(\"Missing values in ratings dataset:\\n\", ratings.isnull().sum())\n",
    "\n",
    "# Check for missing values in the movies dataset\n",
    "print(\"Missing values in movies dataset:\\n\", movies.isnull().sum())"
   ]
  },
  {
   "cell_type": "markdown",
   "id": "a32a7b9d-4abb-4071-8a93-d2dd380e2f0a",
   "metadata": {},
   "source": [
    "### Checking for Duplicate Values"
   ]
  },
  {
   "cell_type": "code",
   "execution_count": null,
   "id": "950dab38-ab4b-4972-881d-bbebf73116ad",
   "metadata": {},
   "outputs": [],
   "source": [
    "# Check for duplicate rows in the ratings dataset\n",
    "duplicate_ratings = ratings.duplicated().sum()\n",
    "print(f\"Number of duplicate rows in ratings dataset: {duplicate_ratings}\")\n",
    "\n",
    "# If duplicates exist, remove them\n",
    "if duplicate_ratings > 0:\n",
    "    ratings = ratings.drop_duplicates()\n",
    "\n",
    "# Check for duplicate rows in the movies dataset\n",
    "duplicate_movies = movies.duplicated().sum()\n",
    "print(f\"Number of duplicate rows in movies dataset: {duplicate_movies}\")\n",
    "\n",
    "# If duplicates exist, remove them\n",
    "if duplicate_movies > 0:\n",
    "    movies = movies.drop_duplicates()"
   ]
  },
  {
   "cell_type": "markdown",
   "id": "0ecc6891-2acd-44ae-898c-d816fb5603b8",
   "metadata": {},
   "source": [
    "### Filtering Users Who Rated More Than 10 Movies"
   ]
  },
  {
   "cell_type": "code",
   "execution_count": null,
   "id": "7c580edd-7332-432d-8cee-c2e73653dc8d",
   "metadata": {},
   "outputs": [],
   "source": [
    "# Group by userId and count the number of movies rated by each user\n",
    "user_ratings_count = ratings.groupby('userId').size()\n",
    "\n",
    "# Filter users who have rated more than 10 movies\n",
    "valid_users = user_ratings_count[user_ratings_count > 10].index\n",
    "\n",
    "# Filter the ratings data to only include valid users\n",
    "filtered_ratings = ratings[ratings['userId'].isin(valid_users)]\n",
    "\n",
    "# Display the filtered dataset\n",
    "filtered_ratings.head()"
   ]
  },
  {
   "cell_type": "markdown",
   "id": "2da8e2f9-1eb6-45e0-b590-69f600163ca3",
   "metadata": {},
   "source": [
    "### Filtering Movies Rated Above 2"
   ]
  },
  {
   "cell_type": "code",
   "execution_count": null,
   "id": "5225702e-752a-4cf7-b2e7-75a123435329",
   "metadata": {},
   "outputs": [],
   "source": [
    "# Filter movies with ratings greater than 2\n",
    "filtered_ratings = filtered_ratings[filtered_ratings['rating'] > 2]\n",
    "\n",
    "# Display the filtered ratings\n",
    "filtered_ratings.head()"
   ]
  },
  {
   "cell_type": "markdown",
   "id": "7a23c15e-4cf4-4c2a-9a42-bc17a69517d9",
   "metadata": {},
   "source": [
    "### Creating the Transactional Dataset"
   ]
  },
  {
   "cell_type": "code",
   "execution_count": null,
   "id": "923b85f8-acae-41a7-bd3e-536f15a6e24b",
   "metadata": {},
   "outputs": [],
   "source": [
    "# Group by userId and aggregate movieIds into a list\n",
    "transactional_data = filtered_ratings.groupby('userId')['movieId'].apply(list)\n",
    "\n",
    "# Convert the transactional data into a DataFrame\n",
    "transactional_data = pd.DataFrame(transactional_data).reset_index()\n",
    "\n",
    "# Display the transactional data\n",
    "transactional_data.head()"
   ]
  },
  {
   "cell_type": "markdown",
   "id": "d6203470-00c4-4b8f-9bbf-04de06b2c3d0",
   "metadata": {},
   "source": [
    "### Splitting into Training and Test Sets"
   ]
  },
  {
   "cell_type": "code",
   "execution_count": null,
   "id": "bf31ab84-0d89-4970-a21f-3e84fa7c0884",
   "metadata": {},
   "outputs": [],
   "source": [
    "from sklearn.model_selection import train_test_split\n",
    "\n",
    "# Split the dataset into 80% training and 20% test set\n",
    "train_data, test_data = train_test_split(transactional_data, test_size=0.2, random_state=42)\n",
    "\n",
    "# Create a test set by removing 20% of the movies from each user\n",
    "def create_test_set(movies):\n",
    "    test_size = int(len(movies) * 0.2)  # Remove 20% of the movies\n",
    "    return movies[:test_size]\n",
    "\n",
    "test_data['movieId'] = test_data['movieId'].apply(create_test_set)\n",
    "\n",
    "# Display the training and test data\n",
    "train_data.head(), test_data.head()"
   ]
  },
  {
   "cell_type": "markdown",
   "id": "725f1e9b-9f90-4310-aa1d-f4d608d5815a",
   "metadata": {},
   "source": [
    "### Commiting to Git!"
   ]
  },
  {
   "cell_type": "code",
   "execution_count": null,
   "id": "bd0ce712-62dd-44b4-a8e6-69a61f2cc453",
   "metadata": {},
   "outputs": [],
   "source": [
    "!git init\n",
    "\n",
    "!git remote add origin https://github.com/shuklaganesh/Movie-Recommendation-System.git\n",
    "\n",
    "!git branch -M main\n",
    "\n",
    "!git status\n",
    "\n",
    "!git add \"Assignment 3_64_Mid-Submission.ipynb\"\n",
    "\n",
    "!git commit -m \"Completed data preprocessing for movie recommendation system\"\n",
    "\n",
    "!git push -u origin main"
   ]
  },
  {
   "cell_type": "code",
   "execution_count": null,
   "id": "4f091eac-0c17-4a25-a50e-fea1efee5f6f",
   "metadata": {},
   "outputs": [],
   "source": [
    "print(\"Notebook is still working.\")"
   ]
  }
 ],
 "metadata": {
  "kernelspec": {
   "display_name": "Python 3 (ipykernel)",
   "language": "python",
   "name": "python3"
  },
  "language_info": {
   "codemirror_mode": {
    "name": "ipython",
    "version": 3
   },
   "file_extension": ".py",
   "mimetype": "text/x-python",
   "name": "python",
   "nbconvert_exporter": "python",
   "pygments_lexer": "ipython3",
   "version": "3.12.3"
  }
 },
 "nbformat": 4,
 "nbformat_minor": 5
}
